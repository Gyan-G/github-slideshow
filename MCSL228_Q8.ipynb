{
  "nbformat": 4,
  "nbformat_minor": 0,
  "metadata": {
    "colab": {
      "provenance": [],
      "authorship_tag": "ABX9TyP06xduCFfvj6KGanGNvLIB",
      "include_colab_link": true
    },
    "kernelspec": {
      "name": "python3",
      "display_name": "Python 3"
    },
    "language_info": {
      "name": "python"
    }
  },
  "cells": [
    {
      "cell_type": "markdown",
      "metadata": {
        "id": "view-in-github",
        "colab_type": "text"
      },
      "source": [
        "<a href=\"https://colab.research.google.com/github/Gyan-G/github-slideshow/blob/main/MCSL228_Q8.ipynb\" target=\"_parent\"><img src=\"https://colab.research.google.com/assets/colab-badge.svg\" alt=\"Open In Colab\"/></a>"
      ]
    },
    {
      "cell_type": "code",
      "source": [
        "!pip install pyfpgrowth"
      ],
      "metadata": {
        "colab": {
          "base_uri": "https://localhost:8080/",
          "height": 0
        },
        "collapsed": true,
        "id": "_bAD29jQklbj",
        "outputId": "1a7afa88-3fe6-4bd9-f132-1e640e3f6320"
      },
      "execution_count": 2,
      "outputs": [
        {
          "output_type": "stream",
          "name": "stdout",
          "text": 
        }
      ]
    },
    {
      "cell_type": "code",
      "execution_count": 3,
      "metadata": {
        "colab": {
          "base_uri": "https://localhost:8080/",
          "height": 0
        },
        "id": "99VdX6n3kUM0",
        "outputId": "714c6601-f0bb-49d9-ce8e-5ccb9f250a8a"
      },
      "outputs": [
        {
          "output_type": "stream",
          "name": "stdout",
          "text": [
            "Transactions: [['milk', 'bread', 'butter'], ['bread', 'butter'], ['milk', 'bread'], ['milk', 'butter'], ['bread', 'butter'], ['milk', 'bread', 'butter', 'eggs'], ['milk', 'bread', 'eggs']]\n",
            "\n",
            "Frequent Patterns: {('eggs',): 2, ('eggs', 'milk'): 2, ('bread', 'eggs'): 2, ('bread', 'eggs', 'milk'): 2, ('milk',): 5, ('bread', 'milk'): 4, ('butter', 'milk'): 3, ('bread', 'butter', 'milk'): 2, ('bread', 'butter'): 4, ('bread',): 6}\n",
            "\n",
            "Association Rules: {('eggs',): (('bread', 'milk'), 1.0), ('bread', 'eggs'): (('milk',), 1.0), ('eggs', 'milk'): (('bread',), 1.0), ('milk',): (('bread',), 0.8)}\n"
          ]
        }
      ],
      "source": [
        "import pyfpgrowth\n",
        "\n",
        "# Sample dataset\n",
        "transactions = [\n",
        "    ['milk', 'bread', 'butter'],\n",
        "    ['bread', 'butter'],\n",
        "    ['milk', 'bread'],\n",
        "    ['milk', 'butter'],\n",
        "    ['bread', 'butter'],\n",
        "    ['milk', 'bread', 'butter', 'eggs'],\n",
        "    ['milk', 'bread', 'eggs']\n",
        "]\n",
        "\n",
        "# Display the dataset\n",
        "print(\"Transactions:\", transactions)\n",
        "\n",
        "# Define minimum support threshold (e.g., 2 transactions)\n",
        "min_support = 2\n",
        "\n",
        "# Find frequent patterns\n",
        "patterns = pyfpgrowth.find_frequent_patterns(transactions, min_support)\n",
        "\n",
        "# Display the frequent patterns\n",
        "print(\"\\nFrequent Patterns:\", patterns)\n",
        "\n",
        "# Define minimum confidence threshold (e.g., 0.7)\n",
        "min_confidence = 0.7\n",
        "\n",
        "# Generate association rules\n",
        "rules = pyfpgrowth.generate_association_rules(patterns, min_confidence)\n",
        "\n",
        "# Display the association rules\n",
        "print(\"\\nAssociation Rules:\", rules)\n"
      ]
    }
  ]
}
